{
  "cells": [
    {
      "cell_type": "code",
      "execution_count": 1,
      "metadata": {
        "id": "q1AipLgC18J2"
      },
      "outputs": [],
      "source": [
        "import pandas as pd\n",
        "from sklearn.model_selection import train_test_split\n",
        "import numpy as np\n",
        "import matplotlib.pyplot as plt\n",
        "from sklearn.ensemble import GradientBoostingRegressor\n",
        "from sklearn.ensemble import BaggingRegressor\n",
        "from sklearn import tree\n",
        "import xgboost as xgb\n",
        "import lightgbm as lgb\n",
        "from sklearn.linear_model import LinearRegression\n",
        "from sklearn.linear_model import Lasso\n",
        "import statsmodels.api as sm\n",
        "import seaborn as sns"
      ]
    },
    {
      "cell_type": "code",
      "execution_count": 2,
      "metadata": {
        "id": "JEBdKNXI2aaI"
      },
      "outputs": [],
      "source": [
        "df = pd.read_csv(\"/content/Train_data_1.csv\")"
      ]
    },
    {
      "cell_type": "code",
      "execution_count": 3,
      "metadata": {
        "colab": {
          "base_uri": "https://localhost:8080/",
          "height": 317
        },
        "id": "EF3PF61V3a5k",
        "outputId": "46fe7bf9-c03f-4a36-a215-88af374a6521"
      },
      "outputs": [
        {
          "output_type": "execute_result",
          "data": {
            "text/plain": [
              "   Unnamed: 0  ChargeOffMOB  BalanceAtDefault  JointIndicator  LCPIndicator  \\\n",
              "0           0          15.0           9914.12             0.0           1.0   \n",
              "1           1          27.0           8484.37             0.0           0.0   \n",
              "2           2           8.0          14905.78             0.0           0.0   \n",
              "3           3          15.0          13260.44             0.0           0.0   \n",
              "4           4          10.0          20073.82             1.0           0.0   \n",
              "\n",
              "   StateApplicant  NewUsedIndicator  VehicleManufacturerRebate  VehicleAge  \\\n",
              "0        0.007757               0.0                        0.0         5.0   \n",
              "1       -0.014060               0.0                        0.0         2.0   \n",
              "2        0.029890               1.0                     2000.0         0.0   \n",
              "3        0.002872               0.0                        0.0         3.0   \n",
              "4       -0.035374               1.0                        0.0         0.0   \n",
              "\n",
              "   VehicleMileage  ...  NumExceptionPctAvgNumExceptionLast30DaysBookedLoans  \\\n",
              "0         22922.0  ...                                             1.1903     \n",
              "1         55703.0  ...                                             0.0000     \n",
              "2           777.0  ...                                             0.0000     \n",
              "3         34566.0  ...                                             0.0000     \n",
              "4            18.0  ...                                             0.0000     \n",
              "\n",
              "   NumPriorCrescentApplications  NumPriorCrescentApplicationsLast180Days  \\\n",
              "0                           0.0                                      0.0   \n",
              "1                           0.0                                      0.0   \n",
              "2                           1.0                                      1.0   \n",
              "3                           0.0                                      0.0   \n",
              "4                           3.0                                      1.0   \n",
              "\n",
              "   JDPUVIDiffCOFromOrig  MoodysUVIDiffCOFromOrig   FICOScore  \\\n",
              "0                 5.937                     2.39  535.000000   \n",
              "1               -10.699                    -7.92  534.000000   \n",
              "2                 0.729                     0.56  495.000000   \n",
              "3                 4.355                     3.08  537.147939   \n",
              "4                -4.274                    -4.50  499.180523   \n",
              "\n",
              "   FICOScorePctAvgFICOLast30DaysBookedLoans  CreditBureauPctTradesDelq  \\\n",
              "0                                  1.020300                     1.0000   \n",
              "1                                  0.980800                     0.9000   \n",
              "2                                  0.943500                     0.9286   \n",
              "3                                  1.015511                     1.0000   \n",
              "4                                  0.946399                     0.9286   \n",
              "\n",
              "   VehicleName  Recovery_Rate  \n",
              "0    -0.030886         0.1856  \n",
              "1    -0.047215         0.0000  \n",
              "2    -0.047321         0.5889  \n",
              "3    -0.012944         0.3246  \n",
              "4     0.055713         0.9667  \n",
              "\n",
              "[5 rows x 67 columns]"
            ],
            "text/html": [
              "\n",
              "  <div id=\"df-c3d9bf57-9561-446b-8690-7dd99a979ac2\">\n",
              "    <div class=\"colab-df-container\">\n",
              "      <div>\n",
              "<style scoped>\n",
              "    .dataframe tbody tr th:only-of-type {\n",
              "        vertical-align: middle;\n",
              "    }\n",
              "\n",
              "    .dataframe tbody tr th {\n",
              "        vertical-align: top;\n",
              "    }\n",
              "\n",
              "    .dataframe thead th {\n",
              "        text-align: right;\n",
              "    }\n",
              "</style>\n",
              "<table border=\"1\" class=\"dataframe\">\n",
              "  <thead>\n",
              "    <tr style=\"text-align: right;\">\n",
              "      <th></th>\n",
              "      <th>Unnamed: 0</th>\n",
              "      <th>ChargeOffMOB</th>\n",
              "      <th>BalanceAtDefault</th>\n",
              "      <th>JointIndicator</th>\n",
              "      <th>LCPIndicator</th>\n",
              "      <th>StateApplicant</th>\n",
              "      <th>NewUsedIndicator</th>\n",
              "      <th>VehicleManufacturerRebate</th>\n",
              "      <th>VehicleAge</th>\n",
              "      <th>VehicleMileage</th>\n",
              "      <th>...</th>\n",
              "      <th>NumExceptionPctAvgNumExceptionLast30DaysBookedLoans</th>\n",
              "      <th>NumPriorCrescentApplications</th>\n",
              "      <th>NumPriorCrescentApplicationsLast180Days</th>\n",
              "      <th>JDPUVIDiffCOFromOrig</th>\n",
              "      <th>MoodysUVIDiffCOFromOrig</th>\n",
              "      <th>FICOScore</th>\n",
              "      <th>FICOScorePctAvgFICOLast30DaysBookedLoans</th>\n",
              "      <th>CreditBureauPctTradesDelq</th>\n",
              "      <th>VehicleName</th>\n",
              "      <th>Recovery_Rate</th>\n",
              "    </tr>\n",
              "  </thead>\n",
              "  <tbody>\n",
              "    <tr>\n",
              "      <th>0</th>\n",
              "      <td>0</td>\n",
              "      <td>15.0</td>\n",
              "      <td>9914.12</td>\n",
              "      <td>0.0</td>\n",
              "      <td>1.0</td>\n",
              "      <td>0.007757</td>\n",
              "      <td>0.0</td>\n",
              "      <td>0.0</td>\n",
              "      <td>5.0</td>\n",
              "      <td>22922.0</td>\n",
              "      <td>...</td>\n",
              "      <td>1.1903</td>\n",
              "      <td>0.0</td>\n",
              "      <td>0.0</td>\n",
              "      <td>5.937</td>\n",
              "      <td>2.39</td>\n",
              "      <td>535.000000</td>\n",
              "      <td>1.020300</td>\n",
              "      <td>1.0000</td>\n",
              "      <td>-0.030886</td>\n",
              "      <td>0.1856</td>\n",
              "    </tr>\n",
              "    <tr>\n",
              "      <th>1</th>\n",
              "      <td>1</td>\n",
              "      <td>27.0</td>\n",
              "      <td>8484.37</td>\n",
              "      <td>0.0</td>\n",
              "      <td>0.0</td>\n",
              "      <td>-0.014060</td>\n",
              "      <td>0.0</td>\n",
              "      <td>0.0</td>\n",
              "      <td>2.0</td>\n",
              "      <td>55703.0</td>\n",
              "      <td>...</td>\n",
              "      <td>0.0000</td>\n",
              "      <td>0.0</td>\n",
              "      <td>0.0</td>\n",
              "      <td>-10.699</td>\n",
              "      <td>-7.92</td>\n",
              "      <td>534.000000</td>\n",
              "      <td>0.980800</td>\n",
              "      <td>0.9000</td>\n",
              "      <td>-0.047215</td>\n",
              "      <td>0.0000</td>\n",
              "    </tr>\n",
              "    <tr>\n",
              "      <th>2</th>\n",
              "      <td>2</td>\n",
              "      <td>8.0</td>\n",
              "      <td>14905.78</td>\n",
              "      <td>0.0</td>\n",
              "      <td>0.0</td>\n",
              "      <td>0.029890</td>\n",
              "      <td>1.0</td>\n",
              "      <td>2000.0</td>\n",
              "      <td>0.0</td>\n",
              "      <td>777.0</td>\n",
              "      <td>...</td>\n",
              "      <td>0.0000</td>\n",
              "      <td>1.0</td>\n",
              "      <td>1.0</td>\n",
              "      <td>0.729</td>\n",
              "      <td>0.56</td>\n",
              "      <td>495.000000</td>\n",
              "      <td>0.943500</td>\n",
              "      <td>0.9286</td>\n",
              "      <td>-0.047321</td>\n",
              "      <td>0.5889</td>\n",
              "    </tr>\n",
              "    <tr>\n",
              "      <th>3</th>\n",
              "      <td>3</td>\n",
              "      <td>15.0</td>\n",
              "      <td>13260.44</td>\n",
              "      <td>0.0</td>\n",
              "      <td>0.0</td>\n",
              "      <td>0.002872</td>\n",
              "      <td>0.0</td>\n",
              "      <td>0.0</td>\n",
              "      <td>3.0</td>\n",
              "      <td>34566.0</td>\n",
              "      <td>...</td>\n",
              "      <td>0.0000</td>\n",
              "      <td>0.0</td>\n",
              "      <td>0.0</td>\n",
              "      <td>4.355</td>\n",
              "      <td>3.08</td>\n",
              "      <td>537.147939</td>\n",
              "      <td>1.015511</td>\n",
              "      <td>1.0000</td>\n",
              "      <td>-0.012944</td>\n",
              "      <td>0.3246</td>\n",
              "    </tr>\n",
              "    <tr>\n",
              "      <th>4</th>\n",
              "      <td>4</td>\n",
              "      <td>10.0</td>\n",
              "      <td>20073.82</td>\n",
              "      <td>1.0</td>\n",
              "      <td>0.0</td>\n",
              "      <td>-0.035374</td>\n",
              "      <td>1.0</td>\n",
              "      <td>0.0</td>\n",
              "      <td>0.0</td>\n",
              "      <td>18.0</td>\n",
              "      <td>...</td>\n",
              "      <td>0.0000</td>\n",
              "      <td>3.0</td>\n",
              "      <td>1.0</td>\n",
              "      <td>-4.274</td>\n",
              "      <td>-4.50</td>\n",
              "      <td>499.180523</td>\n",
              "      <td>0.946399</td>\n",
              "      <td>0.9286</td>\n",
              "      <td>0.055713</td>\n",
              "      <td>0.9667</td>\n",
              "    </tr>\n",
              "  </tbody>\n",
              "</table>\n",
              "<p>5 rows × 67 columns</p>\n",
              "</div>\n",
              "      <button class=\"colab-df-convert\" onclick=\"convertToInteractive('df-c3d9bf57-9561-446b-8690-7dd99a979ac2')\"\n",
              "              title=\"Convert this dataframe to an interactive table.\"\n",
              "              style=\"display:none;\">\n",
              "        \n",
              "  <svg xmlns=\"http://www.w3.org/2000/svg\" height=\"24px\"viewBox=\"0 0 24 24\"\n",
              "       width=\"24px\">\n",
              "    <path d=\"M0 0h24v24H0V0z\" fill=\"none\"/>\n",
              "    <path d=\"M18.56 5.44l.94 2.06.94-2.06 2.06-.94-2.06-.94-.94-2.06-.94 2.06-2.06.94zm-11 1L8.5 8.5l.94-2.06 2.06-.94-2.06-.94L8.5 2.5l-.94 2.06-2.06.94zm10 10l.94 2.06.94-2.06 2.06-.94-2.06-.94-.94-2.06-.94 2.06-2.06.94z\"/><path d=\"M17.41 7.96l-1.37-1.37c-.4-.4-.92-.59-1.43-.59-.52 0-1.04.2-1.43.59L10.3 9.45l-7.72 7.72c-.78.78-.78 2.05 0 2.83L4 21.41c.39.39.9.59 1.41.59.51 0 1.02-.2 1.41-.59l7.78-7.78 2.81-2.81c.8-.78.8-2.07 0-2.86zM5.41 20L4 18.59l7.72-7.72 1.47 1.35L5.41 20z\"/>\n",
              "  </svg>\n",
              "      </button>\n",
              "      \n",
              "  <style>\n",
              "    .colab-df-container {\n",
              "      display:flex;\n",
              "      flex-wrap:wrap;\n",
              "      gap: 12px;\n",
              "    }\n",
              "\n",
              "    .colab-df-convert {\n",
              "      background-color: #E8F0FE;\n",
              "      border: none;\n",
              "      border-radius: 50%;\n",
              "      cursor: pointer;\n",
              "      display: none;\n",
              "      fill: #1967D2;\n",
              "      height: 32px;\n",
              "      padding: 0 0 0 0;\n",
              "      width: 32px;\n",
              "    }\n",
              "\n",
              "    .colab-df-convert:hover {\n",
              "      background-color: #E2EBFA;\n",
              "      box-shadow: 0px 1px 2px rgba(60, 64, 67, 0.3), 0px 1px 3px 1px rgba(60, 64, 67, 0.15);\n",
              "      fill: #174EA6;\n",
              "    }\n",
              "\n",
              "    [theme=dark] .colab-df-convert {\n",
              "      background-color: #3B4455;\n",
              "      fill: #D2E3FC;\n",
              "    }\n",
              "\n",
              "    [theme=dark] .colab-df-convert:hover {\n",
              "      background-color: #434B5C;\n",
              "      box-shadow: 0px 1px 3px 1px rgba(0, 0, 0, 0.15);\n",
              "      filter: drop-shadow(0px 1px 2px rgba(0, 0, 0, 0.3));\n",
              "      fill: #FFFFFF;\n",
              "    }\n",
              "  </style>\n",
              "\n",
              "      <script>\n",
              "        const buttonEl =\n",
              "          document.querySelector('#df-c3d9bf57-9561-446b-8690-7dd99a979ac2 button.colab-df-convert');\n",
              "        buttonEl.style.display =\n",
              "          google.colab.kernel.accessAllowed ? 'block' : 'none';\n",
              "\n",
              "        async function convertToInteractive(key) {\n",
              "          const element = document.querySelector('#df-c3d9bf57-9561-446b-8690-7dd99a979ac2');\n",
              "          const dataTable =\n",
              "            await google.colab.kernel.invokeFunction('convertToInteractive',\n",
              "                                                     [key], {});\n",
              "          if (!dataTable) return;\n",
              "\n",
              "          const docLinkHtml = 'Like what you see? Visit the ' +\n",
              "            '<a target=\"_blank\" href=https://colab.research.google.com/notebooks/data_table.ipynb>data table notebook</a>'\n",
              "            + ' to learn more about interactive tables.';\n",
              "          element.innerHTML = '';\n",
              "          dataTable['output_type'] = 'display_data';\n",
              "          await google.colab.output.renderOutput(dataTable, element);\n",
              "          const docLink = document.createElement('div');\n",
              "          docLink.innerHTML = docLinkHtml;\n",
              "          element.appendChild(docLink);\n",
              "        }\n",
              "      </script>\n",
              "    </div>\n",
              "  </div>\n",
              "  "
            ]
          },
          "metadata": {},
          "execution_count": 3
        }
      ],
      "source": [
        "df.head()"
      ]
    },
    {
      "cell_type": "code",
      "execution_count": 4,
      "metadata": {
        "id": "ao79N8cz3bjZ"
      },
      "outputs": [],
      "source": [
        "df.drop(labels = ['Unnamed: 0'], axis = 1, inplace = True)"
      ]
    },
    {
      "cell_type": "code",
      "execution_count": 5,
      "metadata": {
        "id": "Jg7EXKCc4YTR"
      },
      "outputs": [],
      "source": [
        "X_train, X_test, y_train, y_test = train_test_split(df.drop(labels=['Recovery_Rate'], axis= 1), df['Recovery_Rate'], test_size=1000)"
      ]
    },
    {
      "cell_type": "code",
      "execution_count": 6,
      "metadata": {
        "colab": {
          "base_uri": "https://localhost:8080/"
        },
        "id": "CKgMTqNb3jag",
        "outputId": "80a7d705-15b9-43d1-b9b2-4d2b45b2eba1"
      },
      "outputs": [
        {
          "output_type": "stream",
          "name": "stdout",
          "text": [
            "                            OLS Regression Results                            \n",
            "==============================================================================\n",
            "Dep. Variable:          Recovery_Rate   R-squared:                       0.229\n",
            "Model:                            OLS   Adj. R-squared:                  0.225\n",
            "Method:                 Least Squares   F-statistic:                     59.43\n",
            "Date:                Sat, 29 Oct 2022   Prob (F-statistic):               0.00\n",
            "Time:                        23:18:03   Log-Likelihood:                 2220.6\n",
            "No. Observations:               12664   AIC:                            -4313.\n",
            "Df Residuals:                   12600   BIC:                            -3837.\n",
            "Df Model:                          63                                         \n",
            "Covariance Type:            nonrobust                                         \n",
            "=======================================================================================================================\n",
            "                                                          coef    std err          t      P>|t|      [0.025      0.975]\n",
            "-----------------------------------------------------------------------------------------------------------------------\n",
            "ChargeOffMOB                                           -0.0095      0.000    -21.835      0.000      -0.010      -0.009\n",
            "BalanceAtDefault                                    -3.056e-05   2.01e-06    -15.199      0.000   -3.45e-05   -2.66e-05\n",
            "JointIndicator                                          0.0306      0.005      5.816      0.000       0.020       0.041\n",
            "LCPIndicator                                           -0.0043      0.005     -0.820      0.412      -0.015       0.006\n",
            "StateApplicant                                          0.7973      0.099      8.071      0.000       0.604       0.991\n",
            "NewUsedIndicator                                       -0.0317      0.008     -3.808      0.000      -0.048      -0.015\n",
            "VehicleManufacturerRebate                           -1.766e-06   4.69e-06     -0.376      0.707    -1.1e-05    7.43e-06\n",
            "VehicleAge                                          -8.392e-05   7.15e-05     -1.174      0.240      -0.000    5.62e-05\n",
            "VehicleMileage                                       -1.46e-06   1.73e-07     -8.464      0.000    -1.8e-06   -1.12e-06\n",
            "VehicleValueBlackBook                                2.455e-07   3.01e-06      0.082      0.935   -5.65e-06    6.14e-06\n",
            "TradeInAmt                                          -1.686e-06   4.58e-06     -0.368      0.713   -1.07e-05    7.29e-06\n",
            "JDPowerUsedVehicleIndex                                -0.0016      0.002     -0.728      0.466      -0.006       0.003\n",
            "MoodysNumUnemployed                                    -0.0023      0.001     -1.666      0.096      -0.005       0.000\n",
            "MoodysUsedVehicleIndex                                  0.0030      0.002      1.550      0.121      -0.001       0.007\n",
            "MoodysNumEmployed                                      -0.0025      0.001     -1.799      0.072      -0.005       0.000\n",
            "MoodysGDPReal                                       -2.523e-06   1.91e-05     -0.132      0.895      -4e-05     3.5e-05\n",
            "MoodysGasoline                                       7.587e-05      0.000      0.597      0.551      -0.000       0.000\n",
            "MoodysNumLaborForce                                     0.0025      0.001      1.792      0.073      -0.000       0.005\n",
            "MoodysUnemploymentRate                                 -1.0950      0.439     -2.493      0.013      -1.956      -0.234\n",
            "TradeInPctBBVehicleValue                             2.542e-08   9.06e-08      0.281      0.779   -1.52e-07    2.03e-07\n",
            "TradeInPctLine3                                        -0.1356      0.478     -0.284      0.777      -1.072       0.801\n",
            "TradeInPctLine4                                         0.6710      0.581      1.156      0.248      -0.467       1.809\n",
            "TradeInPctLine5                                        -0.4172      0.280     -1.490      0.136      -0.966       0.132\n",
            "FinancedAmt                                         -9.744e-05      0.000     -0.933      0.351      -0.000       0.000\n",
            "LoanAmtLine3                                        -1.449e-05    1.3e-05     -1.116      0.264   -3.99e-05    1.09e-05\n",
            "LoanAmtLine4                                            0.0001      0.000      1.364      0.173   -6.26e-05       0.000\n",
            "LTVLine3                                               -0.1526      0.365     -0.418      0.676      -0.869       0.564\n",
            "LTVLine4                                               11.6023     41.465      0.280      0.780     -69.676      92.881\n",
            "LTVLine5                                              -11.6682     41.468     -0.281      0.778     -92.953      69.616\n",
            "LTVLine3ExclRebate                                      0.3054      0.326      0.936      0.349      -0.334       0.945\n",
            "LTVLine4ExclRebate                                     -0.3626      0.378     -0.958      0.338      -1.104       0.379\n",
            "LTVLine5ExclRebate                                      0.1094      0.191      0.573      0.567      -0.265       0.484\n",
            "CashDownPmtPctBBVehicleValue                           -0.1051      0.059     -1.796      0.073      -0.220       0.010\n",
            "CashDownPmtPctLine3                                     0.0966      0.176      0.550      0.582      -0.248       0.441\n",
            "CashDownPmtPctLine4                                    -0.1707      0.328     -0.520      0.603      -0.814       0.473\n",
            "CashDownPmtPctLine5                                     0.2641      0.203      1.303      0.193      -0.133       0.661\n",
            "PaymentToFinancedAmtRatio                              -9.1316      2.901     -3.147      0.002     -14.818      -3.445\n",
            "PTILine5                                                0.1844      0.059      3.142      0.002       0.069       0.299\n",
            "BackendGapAmt                                           0.0001      0.000      1.359      0.174   -6.28e-05       0.000\n",
            "BackendWarrantyAmt                                      0.0001      0.000      1.246      0.213   -7.45e-05       0.000\n",
            "BackendTotalPctBBVehicleValue                          11.6304     41.468      0.280      0.779     -69.654      92.915\n",
            "TotalDownPmt                                        -1.697e-07    4.3e-06     -0.040      0.968   -8.59e-06    8.25e-06\n",
            "DealerReserve                                       -4.259e-05   1.75e-05     -2.428      0.015    -7.7e-05    -8.2e-06\n",
            "ContractRate                                            0.0215      0.008      2.834      0.005       0.007       0.036\n",
            "BuyRate                                                -0.0168      0.007     -2.376      0.017      -0.031      -0.003\n",
            "DealerFeeNet                                         -7.07e-06   8.97e-06     -0.788      0.430   -2.46e-05    1.05e-05\n",
            "NumJobsApplicant                                        0.7311      0.158      4.631      0.000       0.422       1.041\n",
            "EmploymentMonthsSinceHiredCurrentEmployerApplicant   6.191e-05   2.85e-05      2.174      0.030    6.08e-06       0.000\n",
            "EmploymentJobTypeApplicant                              0.5192      0.187      2.781      0.005       0.153       0.885\n",
            "CreditBureauNumTrades                                   0.0002      0.000      1.053      0.292      -0.000       0.001\n",
            "CreditBureauNumTradesCurrent                            0.0014      0.001      1.446      0.148      -0.001       0.003\n",
            "CreditBureauNumCollections                            -9.6e-06      0.000     -0.024      0.981      -0.001       0.001\n",
            "NumExceptionALL                                        -0.0154      0.010     -1.590      0.112      -0.034       0.004\n",
            "NumExceptionLTV                                        -0.0074      0.019     -0.390      0.696      -0.045       0.030\n",
            "NumExceptionPTI                                         0.0122      0.015      0.826      0.409      -0.017       0.041\n",
            "NumExceptionDTI                                         0.0138      0.017      0.793      0.428      -0.020       0.048\n",
            "NumExceptionPctAvgNumExceptionLast30DaysBookedLoans     0.0081      0.005      1.731      0.083      -0.001       0.017\n",
            "NumPriorCrescentApplications                            0.0005      0.003      0.201      0.841      -0.005       0.006\n",
            "NumPriorCrescentApplicationsLast180Days                -0.0037      0.004     -0.997      0.319      -0.011       0.004\n",
            "JDPUVIDiffCOFromOrig                                   -0.0002      0.001     -0.181      0.856      -0.002       0.002\n",
            "MoodysUVIDiffCOFromOrig                                 0.0073      0.002      4.435      0.000       0.004       0.011\n",
            "FICOScore                                               0.0003      0.000      0.876      0.381      -0.000       0.001\n",
            "FICOScorePctAvgFICOLast30DaysBookedLoans               -0.1412      0.164     -0.861      0.389      -0.462       0.180\n",
            "CreditBureauPctTradesDelq                               0.0083      0.017      0.493      0.622      -0.025       0.041\n",
            "VehicleName                                             0.8290      0.056     14.930      0.000       0.720       0.938\n",
            "==============================================================================\n",
            "Omnibus:                     1088.087   Durbin-Watson:                   2.004\n",
            "Prob(Omnibus):                  0.000   Jarque-Bera (JB):             1396.083\n",
            "Skew:                          -0.769   Prob(JB):                    6.99e-304\n",
            "Kurtosis:                       3.532   Cond. No.                     1.21e+16\n",
            "==============================================================================\n",
            "\n",
            "Notes:\n",
            "[1] Standard Errors assume that the covariance matrix of the errors is correctly specified.\n",
            "[2] The smallest eigenvalue is 1.99e-19. This might indicate that there are\n",
            "strong multicollinearity problems or that the design matrix is singular.\n"
          ]
        }
      ],
      "source": [
        "mod = sm.OLS(y_train, X_train)\n",
        "res = mod.fit()\n",
        "print(res.summary())"
      ]
    },
    {
      "cell_type": "code",
      "execution_count": 7,
      "metadata": {
        "id": "ONGPzd8C-432"
      },
      "outputs": [],
      "source": [
        "from sklearn.preprocessing import PolynomialFeatures, StandardScaler\n",
        "poly = PolynomialFeatures(\n",
        "    degree = 2, include_bias = False, interaction_only = False)\n"
      ]
    },
    {
      "cell_type": "code",
      "execution_count": 8,
      "metadata": {
        "colab": {
          "base_uri": "https://localhost:8080/"
        },
        "id": "FwI8XGS--_Av",
        "outputId": "648ab1b5-7e0f-4049-8731-57d82cbeb381"
      },
      "outputs": [
        {
          "output_type": "stream",
          "name": "stderr",
          "text": [
            "/usr/local/lib/python3.7/dist-packages/sklearn/utils/deprecation.py:87: FutureWarning: Function get_feature_names is deprecated; get_feature_names is deprecated in 1.0 and will be removed in 1.2. Please use get_feature_names_out instead.\n",
            "  warnings.warn(msg, category=FutureWarning)\n",
            "/usr/local/lib/python3.7/dist-packages/ipykernel_launcher.py:6: FutureWarning: The default value of regex will change from True to False in a future version. In addition, single character regular expressions will *not* be treated as literal strings when regex=True.\n",
            "  \n"
          ]
        }
      ],
      "source": [
        "X_train_poly = poly.fit_transform(X_train)\n",
        "polynomial_column_names = poly.get_feature_names(input_features = X_train.columns)\n",
        "X_train_poly = pd.DataFrame(data = X_train_poly, \n",
        "        columns = polynomial_column_names )\n",
        "X_train_poly.columns = X_train_poly.columns.str.replace(' ', '_')\n",
        "X_train_poly.columns = X_train_poly.columns.str.replace('^', '_')"
      ]
    },
    {
      "cell_type": "code",
      "execution_count": 9,
      "metadata": {
        "id": "WIlYBxyf_ITb"
      },
      "outputs": [],
      "source": [
        "sc = StandardScaler()\n",
        "X_train_poly_scaled = sc.fit_transform(X_train_poly)\n",
        "X_train_poly_scaled = pd.DataFrame( data = X_train_poly_scaled, columns = X_train_poly.columns)"
      ]
    },
    {
      "cell_type": "code",
      "execution_count": 10,
      "metadata": {
        "colab": {
          "base_uri": "https://localhost:8080/"
        },
        "id": "9g1WWDnL_kRv",
        "outputId": "f3852fe4-8490-4ae4-c3dc-dfa3ab923bbd"
      },
      "outputs": [
        {
          "output_type": "stream",
          "name": "stderr",
          "text": [
            "/usr/local/lib/python3.7/dist-packages/sklearn/base.py:451: UserWarning: X does not have valid feature names, but StandardScaler was fitted with feature names\n",
            "  \"X does not have valid feature names, but\"\n"
          ]
        }
      ],
      "source": [
        "X_test_poly = poly.transform(X_test)\n",
        "X_test_poly_scaled = sc.transform(X_test_poly)"
      ]
    },
    {
      "cell_type": "code",
      "execution_count": 11,
      "metadata": {
        "id": "8RVohGywACK7"
      },
      "outputs": [],
      "source": [
        "def regmodel_param_plot(\n",
        "    validation_score, train_score, alphas_to_try, chosen_alpha,\n",
        "    scoring, model_name, test_score = None, filename = None):\n",
        "    \n",
        "    plt.figure(figsize = (8,8))\n",
        "    sns.lineplot(y = validation_score, x = alphas_to_try, \n",
        "                 label = 'validation_data')\n",
        "    sns.lineplot(y = train_score, x = alphas_to_try, \n",
        "                 label = 'training_data')\n",
        "    plt.axvline(x=chosen_alpha, linestyle='--')\n",
        "    if test_score is not None:\n",
        "        sns.lineplot(y = test_score, x = alphas_to_try, \n",
        "                     label = 'test_data')\n",
        "    plt.xlabel('alpha_parameter')\n",
        "    plt.ylabel(scoring)\n",
        "    plt.title(model_name + ' Regularisation')\n",
        "    plt.legend()\n",
        "    if filename is not None:\n",
        "        plt.savefig(str(filename) + \".png\")\n",
        "    plt.show()"
      ]
    },
    {
      "cell_type": "code",
      "execution_count": 12,
      "metadata": {
        "id": "VxLglvp0AHys"
      },
      "outputs": [],
      "source": [
        "def regmodel_param_test(\n",
        "    alphas_to_try, X, y, cv, scoring = 'r2', \n",
        "    model_name = 'LASSO', X_test = None, y_test = None, \n",
        "    draw_plot = False, filename = None):\n",
        "    \n",
        "    validation_scores = []\n",
        "    train_scores = []\n",
        "    results_list = []\n",
        "    if X_test is not None:\n",
        "        test_scores = []\n",
        "        scorer = get_scorer(scoring)\n",
        "    else:\n",
        "        test_scores = None\n",
        "\n",
        "    for curr_alpha in alphas_to_try:\n",
        "        \n",
        "        if model_name == 'LASSO':\n",
        "            regmodel = Lasso(alpha = curr_alpha)\n",
        "        elif model_name == 'Ridge':\n",
        "            regmodel = Ridge(alpha = curr_alpha)\n",
        "        else:\n",
        "            return None\n",
        "\n",
        "        results = cross_validate(\n",
        "            regmodel, X, y, scoring=scoring, cv=cv, \n",
        "            return_train_score = True)\n",
        "\n",
        "        validation_scores.append(np.mean(results['test_score']))\n",
        "        train_scores.append(np.mean(results['train_score']))\n",
        "        results_list.append(results)\n",
        "\n",
        "        if X_test is not None:\n",
        "            regmodel.fit(X,y)\n",
        "            y_pred = regmodel.predict(X_test)\n",
        "            test_scores.append(scorer(regmodel, X_test, y_test))\n",
        "    \n",
        "    chosen_alpha_id = np.argmax(validation_scores)\n",
        "    chosen_alpha = alphas_to_try[chosen_alpha_id]\n",
        "    max_validation_score = np.max(validation_scores)\n",
        "    if X_test is not None:\n",
        "        test_score_at_chosen_alpha = test_scores[chosen_alpha_id]\n",
        "    else:\n",
        "        test_score_at_chosen_alpha = None\n",
        "        \n",
        "    if draw_plot:\n",
        "        regmodel_param_plot(\n",
        "            validation_scores, train_scores, alphas_to_try, chosen_alpha, \n",
        "            scoring, model_name, test_scores, filename)\n",
        "    \n",
        "    return chosen_alpha, max_validation_score, test_score_at_chosen_alpha"
      ]
    },
    {
      "cell_type": "code",
      "execution_count": 13,
      "metadata": {
        "colab": {
          "base_uri": "https://localhost:8080/"
        },
        "id": "Db4KV3og3mXw",
        "outputId": "59a7a27b-a164-4079-860f-9b206e8c43a8"
      },
      "outputs": [
        {
          "output_type": "stream",
          "name": "stderr",
          "text": [
            "/usr/local/lib/python3.7/dist-packages/sklearn/linear_model/_coordinate_descent.py:648: ConvergenceWarning: Objective did not converge. You might want to increase the number of iterations, check the scale of the features or consider increasing regularisation. Duality gap: 2.611e+02, tolerance: 6.773e-02\n",
            "  coef_, l1_reg, l2_reg, X, y, max_iter, tol, rng, random, positive\n"
          ]
        },
        {
          "output_type": "execute_result",
          "data": {
            "text/plain": [
              "0.24467186621475545"
            ]
          },
          "metadata": {},
          "execution_count": 13
        }
      ],
      "source": [
        "from sklearn.linear_model import Lasso, Ridge, LassoCV, LinearRegression\n",
        "from sklearn.model_selection import KFold, RepeatedKFold, GridSearchCV, cross_validate, train_test_split\n",
        "clf = Lasso(alpha=1e-10, max_iter=100000)\n",
        "clf.fit(X_train, y_train)\n",
        "clf.score(X_test, y_test)"
      ]
    },
    {
      "cell_type": "code",
      "execution_count": 14,
      "metadata": {
        "id": "JMFlsx2nAnAN"
      },
      "outputs": [],
      "source": [
        "from sklearn.metrics import r2_score, get_scorer"
      ]
    },
    {
      "cell_type": "code",
      "execution_count": 15,
      "metadata": {
        "id": "Cu3AGZVQAQfK"
      },
      "outputs": [],
      "source": [
        "cv = KFold(n_splits=5, shuffle=True, random_state=42)\n",
        "lasso_alphas = np.linspace(0, 0.02, 11)"
      ]
    },
    {
      "cell_type": "code",
      "execution_count": null,
      "metadata": {
        "colab": {
          "base_uri": "https://localhost:8080/",
          "height": 1000
        },
        "id": "IhkU9Kg5AQdG",
        "outputId": "e4ec93da-40b6-4e70-add9-d1c18777cbd8"
      },
      "outputs": [
        {
          "name": "stderr",
          "output_type": "stream",
          "text": [
            "/usr/local/lib/python3.7/dist-packages/sklearn/model_selection/_validation.py:680: UserWarning: With alpha=0, this algorithm does not converge well. You are advised to use the LinearRegression estimator\n",
            "  estimator.fit(X_train, y_train, **fit_params)\n",
            "/usr/local/lib/python3.7/dist-packages/sklearn/linear_model/_coordinate_descent.py:648: UserWarning: Coordinate descent with no regularization may lead to unexpected results and is discouraged.\n",
            "  coef_, l1_reg, l2_reg, X, y, max_iter, tol, rng, random, positive\n",
            "/usr/local/lib/python3.7/dist-packages/sklearn/linear_model/_coordinate_descent.py:648: ConvergenceWarning: Objective did not converge. You might want to increase the number of iterations, check the scale of the features or consider increasing regularisation. Duality gap: 1.757e+02, tolerance: 5.406e-02 Linear regression models with null weight for the l1 regularization term are more efficiently fitted using one of the solvers implemented in sklearn.linear_model.Ridge/RidgeCV instead.\n",
            "  coef_, l1_reg, l2_reg, X, y, max_iter, tol, rng, random, positive\n",
            "/usr/local/lib/python3.7/dist-packages/sklearn/model_selection/_validation.py:680: UserWarning: With alpha=0, this algorithm does not converge well. You are advised to use the LinearRegression estimator\n",
            "  estimator.fit(X_train, y_train, **fit_params)\n",
            "/usr/local/lib/python3.7/dist-packages/sklearn/linear_model/_coordinate_descent.py:648: UserWarning: Coordinate descent with no regularization may lead to unexpected results and is discouraged.\n",
            "  coef_, l1_reg, l2_reg, X, y, max_iter, tol, rng, random, positive\n",
            "/usr/local/lib/python3.7/dist-packages/sklearn/linear_model/_coordinate_descent.py:648: ConvergenceWarning: Objective did not converge. You might want to increase the number of iterations, check the scale of the features or consider increasing regularisation. Duality gap: 1.758e+02, tolerance: 5.407e-02 Linear regression models with null weight for the l1 regularization term are more efficiently fitted using one of the solvers implemented in sklearn.linear_model.Ridge/RidgeCV instead.\n",
            "  coef_, l1_reg, l2_reg, X, y, max_iter, tol, rng, random, positive\n",
            "/usr/local/lib/python3.7/dist-packages/sklearn/model_selection/_validation.py:680: UserWarning: With alpha=0, this algorithm does not converge well. You are advised to use the LinearRegression estimator\n",
            "  estimator.fit(X_train, y_train, **fit_params)\n",
            "/usr/local/lib/python3.7/dist-packages/sklearn/linear_model/_coordinate_descent.py:648: UserWarning: Coordinate descent with no regularization may lead to unexpected results and is discouraged.\n",
            "  coef_, l1_reg, l2_reg, X, y, max_iter, tol, rng, random, positive\n",
            "/usr/local/lib/python3.7/dist-packages/sklearn/linear_model/_coordinate_descent.py:648: ConvergenceWarning: Objective did not converge. You might want to increase the number of iterations, check the scale of the features or consider increasing regularisation. Duality gap: 1.752e+02, tolerance: 5.453e-02 Linear regression models with null weight for the l1 regularization term are more efficiently fitted using one of the solvers implemented in sklearn.linear_model.Ridge/RidgeCV instead.\n",
            "  coef_, l1_reg, l2_reg, X, y, max_iter, tol, rng, random, positive\n",
            "/usr/local/lib/python3.7/dist-packages/sklearn/model_selection/_validation.py:680: UserWarning: With alpha=0, this algorithm does not converge well. You are advised to use the LinearRegression estimator\n",
            "  estimator.fit(X_train, y_train, **fit_params)\n",
            "/usr/local/lib/python3.7/dist-packages/sklearn/linear_model/_coordinate_descent.py:648: UserWarning: Coordinate descent with no regularization may lead to unexpected results and is discouraged.\n",
            "  coef_, l1_reg, l2_reg, X, y, max_iter, tol, rng, random, positive\n",
            "/usr/local/lib/python3.7/dist-packages/sklearn/linear_model/_coordinate_descent.py:648: ConvergenceWarning: Objective did not converge. You might want to increase the number of iterations, check the scale of the features or consider increasing regularisation. Duality gap: 1.793e+02, tolerance: 5.448e-02 Linear regression models with null weight for the l1 regularization term are more efficiently fitted using one of the solvers implemented in sklearn.linear_model.Ridge/RidgeCV instead.\n",
            "  coef_, l1_reg, l2_reg, X, y, max_iter, tol, rng, random, positive\n",
            "/usr/local/lib/python3.7/dist-packages/sklearn/model_selection/_validation.py:680: UserWarning: With alpha=0, this algorithm does not converge well. You are advised to use the LinearRegression estimator\n",
            "  estimator.fit(X_train, y_train, **fit_params)\n",
            "/usr/local/lib/python3.7/dist-packages/sklearn/linear_model/_coordinate_descent.py:648: UserWarning: Coordinate descent with no regularization may lead to unexpected results and is discouraged.\n",
            "  coef_, l1_reg, l2_reg, X, y, max_iter, tol, rng, random, positive\n",
            "/usr/local/lib/python3.7/dist-packages/sklearn/linear_model/_coordinate_descent.py:648: ConvergenceWarning: Objective did not converge. You might want to increase the number of iterations, check the scale of the features or consider increasing regularisation. Duality gap: 1.758e+02, tolerance: 5.402e-02 Linear regression models with null weight for the l1 regularization term are more efficiently fitted using one of the solvers implemented in sklearn.linear_model.Ridge/RidgeCV instead.\n",
            "  coef_, l1_reg, l2_reg, X, y, max_iter, tol, rng, random, positive\n",
            "/usr/local/lib/python3.7/dist-packages/ipykernel_launcher.py:33: UserWarning: With alpha=0, this algorithm does not converge well. You are advised to use the LinearRegression estimator\n",
            "/usr/local/lib/python3.7/dist-packages/sklearn/linear_model/_coordinate_descent.py:648: UserWarning: Coordinate descent with no regularization may lead to unexpected results and is discouraged.\n",
            "  coef_, l1_reg, l2_reg, X, y, max_iter, tol, rng, random, positive\n",
            "/usr/local/lib/python3.7/dist-packages/sklearn/linear_model/_coordinate_descent.py:648: ConvergenceWarning: Objective did not converge. You might want to increase the number of iterations, check the scale of the features or consider increasing regularisation. Duality gap: 2.265e+02, tolerance: 6.779e-02 Linear regression models with null weight for the l1 regularization term are more efficiently fitted using one of the solvers implemented in sklearn.linear_model.Ridge/RidgeCV instead.\n",
            "  coef_, l1_reg, l2_reg, X, y, max_iter, tol, rng, random, positive\n",
            "/usr/local/lib/python3.7/dist-packages/sklearn/base.py:451: UserWarning: X does not have valid feature names, but Lasso was fitted with feature names\n",
            "  \"X does not have valid feature names, but\"\n",
            "/usr/local/lib/python3.7/dist-packages/sklearn/base.py:451: UserWarning: X does not have valid feature names, but Lasso was fitted with feature names\n",
            "  \"X does not have valid feature names, but\"\n",
            "/usr/local/lib/python3.7/dist-packages/sklearn/base.py:451: UserWarning: X does not have valid feature names, but Lasso was fitted with feature names\n",
            "  \"X does not have valid feature names, but\"\n",
            "/usr/local/lib/python3.7/dist-packages/sklearn/base.py:451: UserWarning: X does not have valid feature names, but Lasso was fitted with feature names\n",
            "  \"X does not have valid feature names, but\"\n",
            "/usr/local/lib/python3.7/dist-packages/sklearn/base.py:451: UserWarning: X does not have valid feature names, but Lasso was fitted with feature names\n",
            "  \"X does not have valid feature names, but\"\n",
            "/usr/local/lib/python3.7/dist-packages/sklearn/base.py:451: UserWarning: X does not have valid feature names, but Lasso was fitted with feature names\n",
            "  \"X does not have valid feature names, but\"\n",
            "/usr/local/lib/python3.7/dist-packages/sklearn/base.py:451: UserWarning: X does not have valid feature names, but Lasso was fitted with feature names\n",
            "  \"X does not have valid feature names, but\"\n",
            "/usr/local/lib/python3.7/dist-packages/sklearn/base.py:451: UserWarning: X does not have valid feature names, but Lasso was fitted with feature names\n",
            "  \"X does not have valid feature names, but\"\n",
            "/usr/local/lib/python3.7/dist-packages/sklearn/base.py:451: UserWarning: X does not have valid feature names, but Lasso was fitted with feature names\n",
            "  \"X does not have valid feature names, but\"\n",
            "/usr/local/lib/python3.7/dist-packages/sklearn/base.py:451: UserWarning: X does not have valid feature names, but Lasso was fitted with feature names\n",
            "  \"X does not have valid feature names, but\"\n",
            "/usr/local/lib/python3.7/dist-packages/sklearn/base.py:451: UserWarning: X does not have valid feature names, but Lasso was fitted with feature names\n",
            "  \"X does not have valid feature names, but\"\n",
            "/usr/local/lib/python3.7/dist-packages/sklearn/base.py:451: UserWarning: X does not have valid feature names, but Lasso was fitted with feature names\n",
            "  \"X does not have valid feature names, but\"\n",
            "/usr/local/lib/python3.7/dist-packages/sklearn/base.py:451: UserWarning: X does not have valid feature names, but Lasso was fitted with feature names\n",
            "  \"X does not have valid feature names, but\"\n",
            "/usr/local/lib/python3.7/dist-packages/sklearn/base.py:451: UserWarning: X does not have valid feature names, but Lasso was fitted with feature names\n",
            "  \"X does not have valid feature names, but\"\n",
            "/usr/local/lib/python3.7/dist-packages/sklearn/base.py:451: UserWarning: X does not have valid feature names, but Lasso was fitted with feature names\n",
            "  \"X does not have valid feature names, but\"\n",
            "/usr/local/lib/python3.7/dist-packages/sklearn/base.py:451: UserWarning: X does not have valid feature names, but Lasso was fitted with feature names\n",
            "  \"X does not have valid feature names, but\"\n",
            "/usr/local/lib/python3.7/dist-packages/sklearn/base.py:451: UserWarning: X does not have valid feature names, but Lasso was fitted with feature names\n",
            "  \"X does not have valid feature names, but\"\n",
            "/usr/local/lib/python3.7/dist-packages/sklearn/base.py:451: UserWarning: X does not have valid feature names, but Lasso was fitted with feature names\n",
            "  \"X does not have valid feature names, but\"\n",
            "/usr/local/lib/python3.7/dist-packages/sklearn/base.py:451: UserWarning: X does not have valid feature names, but Lasso was fitted with feature names\n",
            "  \"X does not have valid feature names, but\"\n",
            "/usr/local/lib/python3.7/dist-packages/sklearn/base.py:451: UserWarning: X does not have valid feature names, but Lasso was fitted with feature names\n",
            "  \"X does not have valid feature names, but\"\n",
            "/usr/local/lib/python3.7/dist-packages/sklearn/base.py:451: UserWarning: X does not have valid feature names, but Lasso was fitted with feature names\n",
            "  \"X does not have valid feature names, but\"\n",
            "/usr/local/lib/python3.7/dist-packages/sklearn/base.py:451: UserWarning: X does not have valid feature names, but Lasso was fitted with feature names\n",
            "  \"X does not have valid feature names, but\"\n"
          ]
        },
        {
          "data": {
            "image/png": "[encoded data removed]",
            "text/plain": [
              "<Figure size 576x576 with 1 Axes>"
            ]
          },
          "metadata": {},
          "output_type": "display_data"
        },
        {
          "name": "stdout",
          "output_type": "stream",
          "text": [
            "Chosen alpha: 0.00200\n",
            "Validation score: 0.21361\n",
            "Test score at chosen alpha: 0.21843\n"
          ]
        }
      ],
      "source": [
        "chosen_alpha, max_validation_score, test_score_at_chosen_alpha = \\\n",
        "    regmodel_param_test(\n",
        "        lasso_alphas, X_train_poly_scaled, y_train, \n",
        "        cv, scoring = 'r2', model_name = 'LASSO', \n",
        "        X_test = X_test_poly_scaled, y_test = y_test, \n",
        "        draw_plot = True, filename = 'lasso_wide_search')\n",
        "print(\"Chosen alpha: %.5f\" % \\\n",
        "    chosen_alpha)\n",
        "print(\"Validation score: %.5f\" % \\\n",
        "    max_validation_score)\n",
        "print(\"Test score at chosen alpha: %.5f\" % \\\n",
        "    test_score_at_chosen_alpha)"
      ]
    },
    {
      "cell_type": "code",
      "execution_count": null,
      "metadata": {
        "id": "BIHvx4nKAQa4"
      },
      "outputs": [],
      "source": [
        "import math\n",
        "import pandas as pd\n",
        "import tensorflow as tf\n",
        "import matplotlib.pyplot as plt\n",
        "from tensorflow.keras import Model\n",
        "from tensorflow.keras import Sequential\n",
        "from tensorflow.keras.optimizers import Adam\n",
        "from sklearn.preprocessing import StandardScaler\n",
        "from tensorflow.keras.layers import Dense, Dropout\n",
        "from sklearn.model_selection import train_test_split\n",
        "from tensorflow.keras.losses import MeanSquaredLogarithmicError\n",
        "from sklearn.metrics import mean_squared_log_error"
      ]
    },
    {
      "cell_type": "code",
      "execution_count": null,
      "metadata": {
        "id": "hCxllCX8FBvW"
      },
      "outputs": [],
      "source": [
        "def scale_datasets(x_train, x_test):\n",
        "\n",
        "  \"\"\"\n",
        "  Standard Scale test and train data\n",
        "  Z - Score normalization\n",
        "  \"\"\"\n",
        "  standard_scaler = StandardScaler()\n",
        "  x_train_scaled = pd.DataFrame(\n",
        "      standard_scaler.fit_transform(x_train),\n",
        "      columns=x_train.columns\n",
        "  )\n",
        "  x_test_scaled = pd.DataFrame(\n",
        "      standard_scaler.transform(x_test),\n",
        "      columns = x_test.columns\n",
        "  )\n",
        "  return x_train_scaled, x_test_scaled\n",
        "x_train_scaled, x_test_scaled = scale_datasets(X_train, X_test)"
      ]
    },
    {
      "cell_type": "code",
      "execution_count": null,
      "metadata": {
        "id": "W6CdExU5AQWN"
      },
      "outputs": [],
      "source": [
        "hidden_units1 = 160\n",
        "hidden_units2 = 480\n",
        "hidden_units3 = 256\n",
        "learning_rate = 0.01\n",
        "# Creating model using the Sequential in tensorflow\n",
        "def build_model_using_sequential():\n",
        "  model = Sequential([\n",
        "    Dense(hidden_units1, kernel_initializer='normal', activation='relu'),\n",
        "    Dropout(0.2),\n",
        "    Dense(hidden_units2, kernel_initializer='normal', activation='relu'),\n",
        "    Dropout(0.2),\n",
        "    Dense(hidden_units3, kernel_initializer='normal', activation='relu'),\n",
        "    Dropout(0.2),\n",
        "    Dense(hidden_units2, kernel_initializer='normal', activation='relu'),\n",
        "    Dropout(0.2),\n",
        "    Dense(hidden_units3, kernel_initializer='normal', activation='relu'),\n",
        "    Dropout(0.2),\n",
        "    Dense(hidden_units2, kernel_initializer='normal', activation='relu'),\n",
        "    Dropout(0.2),\n",
        "    Dense(hidden_units3, kernel_initializer='normal', activation='relu'),\n",
        "    Dropout(0.2),\n",
        "    Dense(hidden_units2, kernel_initializer='normal', activation='relu'),\n",
        "    Dropout(0.2),\n",
        "    Dense(hidden_units3, kernel_initializer='normal', activation='relu'),\n",
        "    Dropout(0.2),\n",
        "    Dense(hidden_units2, kernel_initializer='normal', activation='relu'),\n",
        "    Dropout(0.2),\n",
        "    Dense(hidden_units3, kernel_initializer='normal', activation='relu'),\n",
        "    Dense(1, kernel_initializer='normal', activation='linear')\n",
        "  ])\n",
        "  return model\n",
        "# build the model\n",
        "model = build_model_using_sequential()"
      ]
    },
    {
      "cell_type": "code",
      "execution_count": null,
      "metadata": {
        "colab": {
          "base_uri": "https://localhost:8080/"
        },
        "id": "SAUOX5SLAQQo",
        "outputId": "f4dd54ab-a9d5-459b-9282-0b32af339670"
      },
      "outputs": [
        {
          "name": "stdout",
          "output_type": "stream",
          "text": [
            "Epoch 1/10\n",
            "159/159 [==============================] - 4s 21ms/step - loss: 0.1395 - mean_squared_logarithmic_error: 0.1390 - val_loss: 0.0277 - val_mean_squared_logarithmic_error: 0.0277\n",
            "Epoch 2/10\n",
            "159/159 [==============================] - 3s 19ms/step - loss: 0.0289 - mean_squared_logarithmic_error: 0.0289 - val_loss: 0.0276 - val_mean_squared_logarithmic_error: 0.0276\n",
            "Epoch 3/10\n",
            "159/159 [==============================] - 3s 19ms/step - loss: 0.0290 - mean_squared_logarithmic_error: 0.0291 - val_loss: 0.0276 - val_mean_squared_logarithmic_error: 0.0276\n",
            "Epoch 4/10\n",
            "159/159 [==============================] - 3s 20ms/step - loss: 0.0289 - mean_squared_logarithmic_error: 0.0289 - val_loss: 0.0280 - val_mean_squared_logarithmic_error: 0.0280\n",
            "Epoch 5/10\n",
            "159/159 [==============================] - 3s 20ms/step - loss: 0.0289 - mean_squared_logarithmic_error: 0.0289 - val_loss: 0.0276 - val_mean_squared_logarithmic_error: 0.0276\n",
            "Epoch 6/10\n",
            "159/159 [==============================] - 3s 20ms/step - loss: 0.0288 - mean_squared_logarithmic_error: 0.0288 - val_loss: 0.0277 - val_mean_squared_logarithmic_error: 0.0276\n",
            "Epoch 7/10\n",
            "159/159 [==============================] - 3s 21ms/step - loss: 0.0289 - mean_squared_logarithmic_error: 0.0290 - val_loss: 0.0277 - val_mean_squared_logarithmic_error: 0.0277\n",
            "Epoch 8/10\n",
            "159/159 [==============================] - 3s 20ms/step - loss: 0.0289 - mean_squared_logarithmic_error: 0.0288 - val_loss: 0.0276 - val_mean_squared_logarithmic_error: 0.0276\n",
            "Epoch 9/10\n",
            "159/159 [==============================] - 3s 20ms/step - loss: 0.0288 - mean_squared_logarithmic_error: 0.0288 - val_loss: 0.0278 - val_mean_squared_logarithmic_error: 0.0277\n",
            "Epoch 10/10\n",
            "159/159 [==============================] - 3s 20ms/step - loss: 0.0289 - mean_squared_logarithmic_error: 0.0289 - val_loss: 0.0278 - val_mean_squared_logarithmic_error: 0.0277\n"
          ]
        }
      ],
      "source": [
        "# loss function\n",
        "msle = MeanSquaredLogarithmicError()\n",
        "model.compile(\n",
        "    loss=msle, \n",
        "    optimizer=Adam(learning_rate=learning_rate), \n",
        "    metrics=[msle]\n",
        ")\n",
        "# train the model\n",
        "history = model.fit(\n",
        "    x_train_scaled.values, \n",
        "    y_train.values, \n",
        "    epochs=10, \n",
        "    batch_size=64,\n",
        "    validation_split=0.2\n",
        ")"
      ]
    },
    {
      "cell_type": "code",
      "execution_count": null,
      "metadata": {
        "colab": {
          "base_uri": "https://localhost:8080/",
          "height": 279
        },
        "id": "IMMl5WqSAQNu",
        "outputId": "260b91e2-6b41-4d31-bad9-caa2ae431ef6"
      },
      "outputs": [
        {
          "data": {
            "image/png": "[encoded data removed]",
            "text/plain": [
              "<Figure size 432x288 with 1 Axes>"
            ]
          },
          "metadata": {},
          "output_type": "display_data"
        }
      ],
      "source": [
        "def plot_history(history, key):\n",
        "  plt.plot(history.history[key])\n",
        "  plt.plot(history.history['val_'+key])\n",
        "  plt.xlabel(\"Epochs\")\n",
        "  plt.ylabel(key)\n",
        "  plt.legend([key, 'val_'+key])\n",
        "  plt.show()\n",
        "# Plot the history\n",
        "plot_history(history, 'mean_squared_logarithmic_error')"
      ]
    },
    {
      "cell_type": "code",
      "execution_count": null,
      "metadata": {
        "colab": {
          "base_uri": "https://localhost:8080/"
        },
        "id": "AUIW9YcuHV3s",
        "outputId": "eeaefd8b-47b6-4ec9-b511-4ea459d3ddd9"
      },
      "outputs": [
        {
          "name": "stdout",
          "output_type": "stream",
          "text": [
            "32/32 [==============================] - 0s 10ms/step\n"
          ]
        }
      ],
      "source": [
        "predictions= model.predict(x_test_scaled, verbose= True)"
      ]
    },
    {
      "cell_type": "code",
      "execution_count": null,
      "metadata": {
        "id": "faI0sKTNHbIN"
      },
      "outputs": [],
      "source": [
        "def RMSLE(y_true: np.array, y_pred: np.array) -> np.float64:\n",
        "    \"\"\"\n",
        "    The Root Mean Squared Log Error (RMSLE) metric \n",
        "        \n",
        "    :param y_true: The ground truth labels given in the dataset\n",
        "    :param y_pred: Our predictions\n",
        "    :return: The RMSLE score\n",
        "    \"\"\"\n",
        "    return mean_squared_log_error(y_true, y_pred, squared=False)"
      ]
    },
    {
      "cell_type": "code",
      "execution_count": null,
      "metadata": {
        "colab": {
          "base_uri": "https://localhost:8080/"
        },
        "id": "WuL7AwoYIRue",
        "outputId": "debdf5d9-7776-4902-e4fe-a0a0e33eaf5b"
      },
      "outputs": [
        {
          "name": "stdout",
          "output_type": "stream",
          "text": [
            "RMSLE for predicting only 0: 0.39126\n",
            "RMSLE for predicting only 1: 0.37995\n",
            "RMSLE for predicting only 50: 3.58295\n",
            "RMSLE for predicting the mean (0.44): 0.16958\n"
          ]
        }
      ],
      "source": [
        "mean = np.mean(df['Recovery_Rate'])\n",
        "\n",
        "print(f\"RMSLE for predicting only 0: {round(RMSLE(df['Recovery_Rate'], np.zeros(len(df))), 5)}\")\n",
        "print(f\"RMSLE for predicting only 1: {round(RMSLE(df['Recovery_Rate'], np.ones(len(df))), 5)}\")\n",
        "print(f\"RMSLE for predicting only 50: {round(RMSLE(df['Recovery_Rate'], np.full(len(df), 50)), 5)}\")\n",
        "print(f\"RMSLE for predicting the mean ({round(mean, 2)}): {round(RMSLE(df['Recovery_Rate'], np.full(len(df), mean)), 5)}\")"
      ]
    },
    {
      "cell_type": "code",
      "execution_count": null,
      "metadata": {
        "id": "WSgS5uKMIfMd"
      },
      "outputs": [],
      "source": [
        "best_const = np.expm1(np.mean(np.log1p(df['Recovery_Rate'])))"
      ]
    },
    {
      "cell_type": "code",
      "execution_count": null,
      "metadata": {
        "colab": {
          "base_uri": "https://localhost:8080/"
        },
        "id": "NaNWZVhgJHaJ",
        "outputId": "a9b12acb-c7fb-46cc-ebfa-5491ba39f39c"
      },
      "outputs": [
        {
          "name": "stdout",
          "output_type": "stream",
          "text": [
            "The best constant for our data is: 0.42313938912205373...\n",
            "RMSLE for predicting the best possible constant on our data: 0.16902\n",
            "\n",
            "This is the optimal RMSLE score that we can get with only a constant prediction and using all data available.\n",
            "We therefore call it the best 'Naive baseline'\n",
            "A model should at least perform better than this RMSLE score.\n"
          ]
        }
      ],
      "source": [
        "print(f\"The best constant for our data is: {best_const}...\")\n",
        "print(f\"RMSLE for predicting the best possible constant on our data: {round(RMSLE(df['Recovery_Rate'], np.full(len(df), best_const)), 5)}\\n\")\n",
        "\n",
        "print(\"This is the optimal RMSLE score that we can get with only a constant prediction and using all data available.\\n\\\n",
        "We therefore call it the best 'Naive baseline'\\n\\\n",
        "A model should at least perform better than this RMSLE score.\")"
      ]
    },
    {
      "cell_type": "code",
      "execution_count": null,
      "metadata": {
        "id": "f4ev64oqJJY8"
      },
      "outputs": [],
      "source": [
        "from sklearn.neighbors import KNeighborsRegressor"
      ]
    },
    {
      "cell_type": "code",
      "execution_count": null,
      "metadata": {
        "colab": {
          "base_uri": "https://localhost:8080/"
        },
        "id": "sFRYIJiEKAi5",
        "outputId": "4923230f-21bc-482a-8e12-e776830dbf46"
      },
      "outputs": [
        {
          "data": {
            "text/plain": [
              "KNeighborsRegressor(leaf_size=0, n_neighbors=10)"
            ]
          },
          "execution_count": 92,
          "metadata": {},
          "output_type": "execute_result"
        }
      ],
      "source": [
        "KNN= KNeighborsRegressor(n_neighbors= 10, leaf_size= 0)\n",
        "\n",
        "KNN.fit(X_train, y_train)"
      ]
    },
    {
      "cell_type": "code",
      "execution_count": null,
      "metadata": {
        "id": "s4kKQQDIKG3C"
      },
      "outputs": [],
      "source": [
        "predictions = KNN.predict(X_test)"
      ]
    },
    {
      "cell_type": "code",
      "execution_count": null,
      "metadata": {
        "colab": {
          "base_uri": "https://localhost:8080/"
        },
        "id": "SoDg40u0Pqgc",
        "outputId": "52360c53-3db8-47f8-98c5-d25d2c5c3315"
      },
      "outputs": [
        {
          "data": {
            "text/plain": [
              "0.1674680631009561"
            ]
          },
          "execution_count": 94,
          "metadata": {},
          "output_type": "execute_result"
        }
      ],
      "source": [
        "RMSLE(y_test, predictions)"
      ]
    },
    {
      "cell_type": "code",
      "execution_count": null,
      "metadata": {
        "colab": {
          "base_uri": "https://localhost:8080/"
        },
        "id": "gmdTVi9KP5Ei",
        "outputId": "1f211626-3ca2-4c88-ffde-b6e90cc87fe7"
      },
      "outputs": [
        {
          "name": "stdout",
          "output_type": "stream",
          "text": [
            "0.519\n"
          ]
        }
      ],
      "source": [
        "too_damn_far = list()\n",
        "for i in range(len(y_test)):\n",
        "  if abs(y_test.to_list()[i] - predictions[i]) > 0.15:\n",
        "    too_damn_far.append(i)\n",
        "\n",
        "print(len(too_damn_far)/1000)\n"
      ]
    },
    {
      "cell_type": "code",
      "execution_count": null,
      "metadata": {
        "colab": {
          "background_save": true,
          "base_uri": "https://localhost:8080/"
        },
        "id": "1dF4s6n-Qek-",
        "outputId": "49fe715c-35d8-406b-d296-741a46a3e9b4"
      },
      "outputs": [
        {
          "name": "stderr",
          "output_type": "stream",
          "text": [
            "/usr/local/lib/python3.7/dist-packages/lightgbm/engine.py:118: UserWarning: Found `num_iterations` in params. Will use it instead of argument\n",
            "  warnings.warn(\"Found `{}` in params. Will use it instead of argument\".format(alias))\n"
          ]
        }
      ],
      "source": [
        "import lightgbm as lgb\n",
        "train_data=lgb.Dataset(X_train,label=y_train)\n",
        "params = {'learning_rate': 2, 'max_bin': 2000, 'num_iterations': 10000, 'num_leaves': 5000}\n",
        "model= lgb.train(params, train_data, 20000)\n",
        "y_pred=model.predict(X_test)\n",
        "for i in range(0,len(y_pred)):\n",
        "   if y_pred[i]>=0.5: \n",
        "    y_pred[i]=1\n",
        "   else: \n",
        "    y_pred[i]=0\n",
        "from sklearn.metrics import mean_squared_error\n",
        "rmse=mean_squared_error(y_pred,y_test)**0.5"
      ]
    },
    {
      "cell_type": "code",
      "execution_count": null,
      "metadata": {
        "colab": {
          "base_uri": "https://localhost:8080/"
        },
        "id": "RSrCnDHzZ5sX",
        "outputId": "f50aab71-293c-4b32-a1a1-19620e516ca0"
      },
      "outputs": [
        {
          "data": {
            "text/plain": [
              "0.4982947072967964"
            ]
          },
          "execution_count": 97,
          "metadata": {},
          "output_type": "execute_result"
        }
      ],
      "source": [
        "rmse"
      ]
    },
    {
      "cell_type": "code",
      "execution_count": 19,
      "metadata": {
        "id": "xoftEk-daCkb",
        "colab": {
          "base_uri": "https://localhost:8080/",
          "height": 389
        },
        "outputId": "e8b71840-3ae2-4ad3-b98f-e0f8ee223dfc"
      },
      "outputs": [
        {
          "output_type": "error",
          "ename": "KeyError",
          "evalue": "ignored",
          "traceback": [
            "\u001b[0;31m---------------------------------------------------------------------------\u001b[0m",
            "\u001b[0;31mKeyError\u001b[0m                                  Traceback (most recent call last)",
            "\u001b[0;32m<ipython-input-19-125839ebe3e9>\u001b[0m in \u001b[0;36m<module>\u001b[0;34m\u001b[0m\n\u001b[1;32m      9\u001b[0m \u001b[0;34m\u001b[0m\u001b[0m\n\u001b[1;32m     10\u001b[0m \u001b[0;31m#Fit the model\u001b[0m\u001b[0;34m\u001b[0m\u001b[0;34m\u001b[0m\u001b[0;34m\u001b[0m\u001b[0m\n\u001b[0;32m---> 11\u001b[0;31m \u001b[0mregression_model\u001b[0m\u001b[0;34m.\u001b[0m\u001b[0mfit\u001b[0m\u001b[0;34m(\u001b[0m\u001b[0mX_train\u001b[0m\u001b[0;34m,\u001b[0m\u001b[0my_train\u001b[0m\u001b[0;34m)\u001b[0m\u001b[0;34m\u001b[0m\u001b[0;34m\u001b[0m\u001b[0m\n\u001b[0m\u001b[1;32m     12\u001b[0m \u001b[0;34m\u001b[0m\u001b[0m\n\u001b[1;32m     13\u001b[0m \u001b[0;34m\u001b[0m\u001b[0m\n",
            "\u001b[0;32m/usr/local/lib/python3.7/dist-packages/sklearn/tree/_classes.py\u001b[0m in \u001b[0;36mfit\u001b[0;34m(self, X, y, sample_weight, check_input, X_idx_sorted)\u001b[0m\n\u001b[1;32m   1318\u001b[0m             \u001b[0msample_weight\u001b[0m\u001b[0;34m=\u001b[0m\u001b[0msample_weight\u001b[0m\u001b[0;34m,\u001b[0m\u001b[0;34m\u001b[0m\u001b[0;34m\u001b[0m\u001b[0m\n\u001b[1;32m   1319\u001b[0m             \u001b[0mcheck_input\u001b[0m\u001b[0;34m=\u001b[0m\u001b[0mcheck_input\u001b[0m\u001b[0;34m,\u001b[0m\u001b[0;34m\u001b[0m\u001b[0;34m\u001b[0m\u001b[0m\n\u001b[0;32m-> 1320\u001b[0;31m             \u001b[0mX_idx_sorted\u001b[0m\u001b[0;34m=\u001b[0m\u001b[0mX_idx_sorted\u001b[0m\u001b[0;34m,\u001b[0m\u001b[0;34m\u001b[0m\u001b[0;34m\u001b[0m\u001b[0m\n\u001b[0m\u001b[1;32m   1321\u001b[0m         )\n\u001b[1;32m   1322\u001b[0m         \u001b[0;32mreturn\u001b[0m \u001b[0mself\u001b[0m\u001b[0;34m\u001b[0m\u001b[0;34m\u001b[0m\u001b[0m\n",
            "\u001b[0;32m/usr/local/lib/python3.7/dist-packages/sklearn/tree/_classes.py\u001b[0m in \u001b[0;36mfit\u001b[0;34m(self, X, y, sample_weight, check_input, X_idx_sorted)\u001b[0m\n\u001b[1;32m    354\u001b[0m                 )\n\u001b[1;32m    355\u001b[0m             \u001b[0;32melse\u001b[0m\u001b[0;34m:\u001b[0m\u001b[0;34m\u001b[0m\u001b[0;34m\u001b[0m\u001b[0m\n\u001b[0;32m--> 356\u001b[0;31m                 \u001b[0mcriterion\u001b[0m \u001b[0;34m=\u001b[0m \u001b[0mCRITERIA_REG\u001b[0m\u001b[0;34m[\u001b[0m\u001b[0mself\u001b[0m\u001b[0;34m.\u001b[0m\u001b[0mcriterion\u001b[0m\u001b[0;34m]\u001b[0m\u001b[0;34m(\u001b[0m\u001b[0mself\u001b[0m\u001b[0;34m.\u001b[0m\u001b[0mn_outputs_\u001b[0m\u001b[0;34m,\u001b[0m \u001b[0mn_samples\u001b[0m\u001b[0;34m)\u001b[0m\u001b[0;34m\u001b[0m\u001b[0;34m\u001b[0m\u001b[0m\n\u001b[0m\u001b[1;32m    357\u001b[0m             \u001b[0;31m# TODO: Remove in v1.2\u001b[0m\u001b[0;34m\u001b[0m\u001b[0;34m\u001b[0m\u001b[0;34m\u001b[0m\u001b[0m\n\u001b[1;32m    358\u001b[0m             \u001b[0;32mif\u001b[0m \u001b[0mself\u001b[0m\u001b[0;34m.\u001b[0m\u001b[0mcriterion\u001b[0m \u001b[0;34m==\u001b[0m \u001b[0;34m\"mse\"\u001b[0m\u001b[0;34m:\u001b[0m\u001b[0;34m\u001b[0m\u001b[0;34m\u001b[0m\u001b[0m\n",
            "\u001b[0;31mKeyError\u001b[0m: 'rmse'"
          ]
        }
      ],
      "source": [
        "#Import the regression tree model\n",
        "from sklearn.tree import DecisionTreeRegressor\n",
        "\n",
        "#Parametrize the model\n",
        "#We will use the mean squered error == varince as spliting criteria and set the minimum number\n",
        "#of instances per leaf = 5\n",
        "regression_model = DecisionTreeRegressor(criterion=\"rmse\",min_samples_leaf=1) \n",
        "\n",
        "\n",
        "#Fit the model\n",
        "regression_model.fit(X_train,y_train)\n",
        "\n",
        "\n",
        "#Predict unseen query instances\n",
        "predicted = regression_model.predict(X_test)\n",
        "\n",
        "RMSE = np.sqrt(np.sum(((y_test-predicted)**2)/len(y_test)))\n",
        "RMSE"
      ]
    },
    {
      "cell_type": "code",
      "execution_count": null,
      "metadata": {
        "id": "krcKcTU1ccEK"
      },
      "outputs": [],
      "source": []
    }
  ],
  "metadata": {
    "colab": {
      "collapsed_sections": [],
      "provenance": []
    },
    "kernelspec": {
      "display_name": "Python 3",
      "name": "python3"
    },
    "language_info": {
      "name": "python"
    }
  },
  "nbformat": 4,
  "nbformat_minor": 0
}